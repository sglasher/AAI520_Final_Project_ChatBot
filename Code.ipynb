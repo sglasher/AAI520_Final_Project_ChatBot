{
 "cells": [
  {
   "cell_type": "code",
   "execution_count": null,
   "metadata": {},
   "outputs": [],
   "source": [
    "import random\n",
    "\n",
    "# Sample SQuAD-like data (question, answer) pairs\n",
    "squad_data = [\n",
    "    {\n",
    "        \"question\": \"What is the capital of France?\",\n",
    "        \"answer\": \"The capital of France is Paris.\"\n",
    "    },\n",
    "    {\n",
    "        \"question\": \"Who wrote Romeo and Juliet?\",\n",
    "        \"answer\": \"Romeo and Juliet was written by William Shakespeare.\"\n",
    "    },\n",
    "    # Add more question-answer pairs as needed\n",
    "]\n",
    "\n",
    "def get_response(question):\n",
    "    # Find the most relevant answer based on the question\n",
    "    relevant_answers = [qa[\"answer\"] for qa in squad_data if qa[\"question\"].lower() in question.lower()]\n",
    "    \n",
    "    if relevant_answers:\n",
    "        return random.choice(relevant_answers)\n",
    "    else:\n",
    "        return \"I'm sorry, I don't have an answer for that question.\"\n",
    "\n",
    "# Simulate a conversation\n",
    "print(\"Chatbot: Hi! How can I assist you today?\")\n",
    "while True:\n",
    "    user_input = input(\"You: \")\n",
    "    if user_input.lower() == 'exit':\n",
    "        print(\"Chatbot: Goodbye!\")\n",
    "        break\n",
    "\n",
    "    response = get_response(user_input)\n",
    "    print(\"Chatbot:\", response)\n"
   ]
  }
 ],
 "metadata": {
  "kernelspec": {
   "display_name": "Python 3",
   "language": "python",
   "name": "python3"
  },
  "language_info": {
   "codemirror_mode": {
    "name": "ipython",
    "version": 3
   },
   "file_extension": ".py",
   "mimetype": "text/x-python",
   "name": "python",
   "nbconvert_exporter": "python",
   "pygments_lexer": "ipython3",
   "version": "3.10.11"
  },
  "orig_nbformat": 4
 },
 "nbformat": 4,
 "nbformat_minor": 2
}
